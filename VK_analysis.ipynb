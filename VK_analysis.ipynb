{
 "cells": [
  {
   "cell_type": "markdown",
   "metadata": {},
   "source": [
    "# VK friends graph"
   ]
  },
  {
   "cell_type": "code",
   "execution_count": 60,
   "metadata": {
    "collapsed": false
   },
   "outputs": [],
   "source": [
    "import vk\n",
    "import pandas as pd\n",
    "import numpy as np\n",
    "import matplotlib\n",
    "from datetime import datetime\n",
    "import matplotlib.pyplot as plt"
   ]
  },
  {
   "cell_type": "code",
   "execution_count": null,
   "metadata": {
    "collapsed": true
   },
   "outputs": [],
   "source": [
    "my_id = 91857120"
   ]
  },
  {
   "cell_type": "code",
   "execution_count": 61,
   "metadata": {
    "collapsed": false
   },
   "outputs": [
    {
     "data": {
      "text/plain": [
       "[{'first_name': 'Павел', 'last_name': 'Дуров', 'uid': 1}]"
      ]
     },
     "execution_count": 61,
     "metadata": {},
     "output_type": "execute_result"
    }
   ],
   "source": [
    "session = vk.Session()\n",
    "api = vk.API(session)\n",
    "api.users.get(user_ids=1)"
   ]
  },
  {
   "cell_type": "code",
   "execution_count": 62,
   "metadata": {
    "collapsed": false
   },
   "outputs": [],
   "source": [
    "friends = pd.DataFrame(api.friends.get(user_id = my_id, fields = 'sex, bdate, city, country, timezone, \\\n",
    "photo_200_orig, has_mobile, education, relation, status, universities'))"
   ]
  },
  {
   "cell_type": "code",
   "execution_count": 63,
   "metadata": {
    "collapsed": false
   },
   "outputs": [
    {
     "data": {
      "text/plain": [
       "bdate                22\n",
       "city                  5\n",
       "country               5\n",
       "deactivated         100\n",
       "education_form       89\n",
       "education_status     88\n",
       "faculty              77\n",
       "faculty_name         77\n",
       "first_name            0\n",
       "graduation           77\n",
       "has_mobile            5\n",
       "hidden               59\n",
       "last_name             0\n",
       "lists                76\n",
       "photo_200_orig        0\n",
       "relation             77\n",
       "relation_partner    102\n",
       "sex                   0\n",
       "status                5\n",
       "status_audio        103\n",
       "uid                   0\n",
       "universities         77\n",
       "university           77\n",
       "university_name      77\n",
       "user_id               0\n",
       "dtype: int64"
      ]
     },
     "execution_count": 63,
     "metadata": {},
     "output_type": "execute_result"
    }
   ],
   "source": [
    "friends.isnull().sum()"
   ]
  },
  {
   "cell_type": "code",
   "execution_count": 64,
   "metadata": {
    "collapsed": true
   },
   "outputs": [],
   "source": [
    "friends.drop(['relation_partner', 'uid', 'university', 'lists', 'hidden', 'has_mobile'], axis=1, inplace=True)"
   ]
  },
  {
   "cell_type": "code",
   "execution_count": 65,
   "metadata": {
    "collapsed": false
   },
   "outputs": [],
   "source": [
    "friends.drop(['relation'], axis=1, inplace=True)"
   ]
  },
  {
   "cell_type": "code",
   "execution_count": 66,
   "metadata": {
    "collapsed": false
   },
   "outputs": [
    {
     "data": {
      "text/plain": [
       "bdate               0.209524\n",
       "city                0.047619\n",
       "country             0.047619\n",
       "deactivated         0.952381\n",
       "education_form      0.847619\n",
       "education_status    0.838095\n",
       "faculty             0.733333\n",
       "faculty_name        0.733333\n",
       "first_name          0.000000\n",
       "graduation          0.733333\n",
       "last_name           0.000000\n",
       "photo_200_orig      0.000000\n",
       "sex                 0.000000\n",
       "status              0.047619\n",
       "status_audio        0.980952\n",
       "universities        0.733333\n",
       "university_name     0.733333\n",
       "user_id             0.000000\n",
       "dtype: float64"
      ]
     },
     "execution_count": 66,
     "metadata": {},
     "output_type": "execute_result"
    }
   ],
   "source": [
    "friends.isnull().sum()/len(friends)"
   ]
  },
  {
   "cell_type": "code",
   "execution_count": 76,
   "metadata": {
    "collapsed": false
   },
   "outputs": [
    {
     "data": {
      "text/html": [
       "<div style=\"max-height:1000px;max-width:1500px;overflow:auto;\">\n",
       "<table border=\"1\" class=\"dataframe\">\n",
       "  <thead>\n",
       "    <tr style=\"text-align: right;\">\n",
       "      <th></th>\n",
       "      <th>bdate</th>\n",
       "      <th>city</th>\n",
       "      <th>country</th>\n",
       "      <th>deactivated</th>\n",
       "      <th>education_form</th>\n",
       "      <th>education_status</th>\n",
       "      <th>faculty</th>\n",
       "      <th>faculty_name</th>\n",
       "      <th>first_name</th>\n",
       "      <th>graduation</th>\n",
       "      <th>last_name</th>\n",
       "      <th>photo_200_orig</th>\n",
       "      <th>sex</th>\n",
       "      <th>status</th>\n",
       "      <th>status_audio</th>\n",
       "      <th>universities</th>\n",
       "      <th>university_name</th>\n",
       "      <th>user_id</th>\n",
       "    </tr>\n",
       "  </thead>\n",
       "  <tbody>\n",
       "    <tr>\n",
       "      <th>0</th>\n",
       "      <td> 14.4.1988</td>\n",
       "      <td>   1</td>\n",
       "      <td> 1</td>\n",
       "      <td> NaN</td>\n",
       "      <td> NaN</td>\n",
       "      <td> NaN</td>\n",
       "      <td>NaN</td>\n",
       "      <td> NaN</td>\n",
       "      <td>     Ольга</td>\n",
       "      <td>  NaN</td>\n",
       "      <td>   Ильина</td>\n",
       "      <td> http://cs419226.vk.me/v419226076/b358/-uTV5JdE...</td>\n",
       "      <td> 1</td>\n",
       "      <td>                                                  </td>\n",
       "      <td> NaN</td>\n",
       "      <td>                                               NaN</td>\n",
       "      <td>                     NaN</td>\n",
       "      <td> 173076</td>\n",
       "    </tr>\n",
       "    <tr>\n",
       "      <th>1</th>\n",
       "      <td>       NaN</td>\n",
       "      <td>   1</td>\n",
       "      <td> 1</td>\n",
       "      <td> NaN</td>\n",
       "      <td> NaN</td>\n",
       "      <td> NaN</td>\n",
       "      <td>NaN</td>\n",
       "      <td> NaN</td>\n",
       "      <td> Александр</td>\n",
       "      <td>  NaN</td>\n",
       "      <td>  Семёнов</td>\n",
       "      <td>          http://cs61.vk.me/u180827/a_41350d36.jpg</td>\n",
       "      <td> 2</td>\n",
       "      <td>                            http://semenoffalex.ru</td>\n",
       "      <td> NaN</td>\n",
       "      <td>                                               NaN</td>\n",
       "      <td>                     NaN</td>\n",
       "      <td> 180827</td>\n",
       "    </tr>\n",
       "    <tr>\n",
       "      <th>2</th>\n",
       "      <td> 21.9.1993</td>\n",
       "      <td>   2</td>\n",
       "      <td> 1</td>\n",
       "      <td> NaN</td>\n",
       "      <td> NaN</td>\n",
       "      <td> NaN</td>\n",
       "      <td>NaN</td>\n",
       "      <td> NaN</td>\n",
       "      <td>      Иван</td>\n",
       "      <td>  NaN</td>\n",
       "      <td>    Мороз</td>\n",
       "      <td> http://cs627621.vk.me/v627621072/e642/OexyWrjS...</td>\n",
       "      <td> 2</td>\n",
       "      <td>                                                  </td>\n",
       "      <td> NaN</td>\n",
       "      <td>                                               NaN</td>\n",
       "      <td>                     NaN</td>\n",
       "      <td> 452072</td>\n",
       "    </tr>\n",
       "    <tr>\n",
       "      <th>3</th>\n",
       "      <td>     21.12</td>\n",
       "      <td>   1</td>\n",
       "      <td> 1</td>\n",
       "      <td> NaN</td>\n",
       "      <td> NaN</td>\n",
       "      <td> NaN</td>\n",
       "      <td>  0</td>\n",
       "      <td>    </td>\n",
       "      <td>     Роман</td>\n",
       "      <td> 2009</td>\n",
       "      <td> Вейнберг</td>\n",
       "      <td> http://cs627822.vk.me/v627822588/37aef/wFcABY_...</td>\n",
       "      <td> 2</td>\n",
       "      <td> В жизни нельзя купить три настоящие вещи: любо...</td>\n",
       "      <td> NaN</td>\n",
       "      <td> [{'name': 'РЭУ им. Г. В. Плеханова', 'id': 326...</td>\n",
       "      <td> РЭУ им. Г. В. Плеханова</td>\n",
       "      <td> 546588</td>\n",
       "    </tr>\n",
       "    <tr>\n",
       "      <th>4</th>\n",
       "      <td>       NaN</td>\n",
       "      <td> 151</td>\n",
       "      <td> 1</td>\n",
       "      <td> NaN</td>\n",
       "      <td> NaN</td>\n",
       "      <td> NaN</td>\n",
       "      <td>NaN</td>\n",
       "      <td> NaN</td>\n",
       "      <td>     Ирина</td>\n",
       "      <td>  NaN</td>\n",
       "      <td>   Носова</td>\n",
       "      <td>        http://cs9625.vk.me/u693176/a_06e48837.jpg</td>\n",
       "      <td> 1</td>\n",
       "      <td>                                                  </td>\n",
       "      <td> NaN</td>\n",
       "      <td>                                               NaN</td>\n",
       "      <td>                     NaN</td>\n",
       "      <td> 693176</td>\n",
       "    </tr>\n",
       "  </tbody>\n",
       "</table>\n",
       "</div>"
      ],
      "text/plain": [
       "       bdate  city  country deactivated education_form education_status  \\\n",
       "0  14.4.1988     1        1         NaN            NaN              NaN   \n",
       "1        NaN     1        1         NaN            NaN              NaN   \n",
       "2  21.9.1993     2        1         NaN            NaN              NaN   \n",
       "3      21.12     1        1         NaN            NaN              NaN   \n",
       "4        NaN   151        1         NaN            NaN              NaN   \n",
       "\n",
       "   faculty faculty_name first_name  graduation last_name  \\\n",
       "0      NaN          NaN      Ольга         NaN    Ильина   \n",
       "1      NaN          NaN  Александр         NaN   Семёнов   \n",
       "2      NaN          NaN       Иван         NaN     Мороз   \n",
       "3        0                   Роман        2009  Вейнберг   \n",
       "4      NaN          NaN      Ирина         NaN    Носова   \n",
       "\n",
       "                                      photo_200_orig  sex  \\\n",
       "0  http://cs419226.vk.me/v419226076/b358/-uTV5JdE...    1   \n",
       "1           http://cs61.vk.me/u180827/a_41350d36.jpg    2   \n",
       "2  http://cs627621.vk.me/v627621072/e642/OexyWrjS...    2   \n",
       "3  http://cs627822.vk.me/v627822588/37aef/wFcABY_...    2   \n",
       "4         http://cs9625.vk.me/u693176/a_06e48837.jpg    1   \n",
       "\n",
       "                                              status status_audio  \\\n",
       "0                                                             NaN   \n",
       "1                             http://semenoffalex.ru          NaN   \n",
       "2                                                             NaN   \n",
       "3  В жизни нельзя купить три настоящие вещи: любо...          NaN   \n",
       "4                                                             NaN   \n",
       "\n",
       "                                        universities          university_name  \\\n",
       "0                                                NaN                      NaN   \n",
       "1                                                NaN                      NaN   \n",
       "2                                                NaN                      NaN   \n",
       "3  [{'name': 'РЭУ им. Г. В. Плеханова', 'id': 326...  РЭУ им. Г. В. Плеханова   \n",
       "4                                                NaN                      NaN   \n",
       "\n",
       "   user_id  \n",
       "0   173076  \n",
       "1   180827  \n",
       "2   452072  \n",
       "3   546588  \n",
       "4   693176  "
      ]
     },
     "execution_count": 76,
     "metadata": {},
     "output_type": "execute_result"
    }
   ],
   "source": [
    "friends.head()"
   ]
  },
  {
   "cell_type": "code",
   "execution_count": null,
   "metadata": {
    "collapsed": true
   },
   "outputs": [],
   "source": []
  }
 ],
 "metadata": {
  "kernelspec": {
   "display_name": "Python 3",
   "language": "python",
   "name": "python3"
  },
  "language_info": {
   "codemirror_mode": {
    "name": "ipython",
    "version": 3
   },
   "file_extension": ".py",
   "mimetype": "text/x-python",
   "name": "python",
   "nbconvert_exporter": "python",
   "pygments_lexer": "ipython3",
   "version": "3.4.3"
  }
 },
 "nbformat": 4,
 "nbformat_minor": 0
}
